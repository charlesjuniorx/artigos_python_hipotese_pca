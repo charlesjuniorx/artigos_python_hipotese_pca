{
 "cells": [
  {
   "cell_type": "code",
   "execution_count": null,
   "id": "808fd611",
   "metadata": {},
   "outputs": [],
   "source": [
    "# Utilizado para remover os warnings\n",
    "import warnings\n",
    "warnings.filterwarnings('ignore')\n",
    "# Usado para plotar na célula ao invés de abrir uma nova janela\n",
    "%matplotlib inline"
   ]
  },
  {
   "cell_type": "code",
   "execution_count": null,
   "id": "97a5f8ce",
   "metadata": {},
   "outputs": [],
   "source": [
    "# Atenção: instalar o pacote: pip install factor_analyzer\n",
    "import pandas as pd\n",
    "import seaborn as sns\n",
    "import matplotlib.pyplot as plt\n",
    "from factor_analyzer import FactorAnalyzer\n",
    "from factor_analyzer.factor_analyzer import calculate_kmo"
   ]
  },
  {
   "cell_type": "code",
   "execution_count": null,
   "id": "17d76b62",
   "metadata": {},
   "outputs": [],
   "source": [
    "# Obter os dados \n",
    "df_fundamental = pd.read_excel(\"df_inep.xlsx\")\n",
    "df_fundamental = df_fundamental.iloc[:, [7,9,11,13,15, 17]]"
   ]
  },
  {
   "cell_type": "code",
   "execution_count": null,
   "id": "c60fe435",
   "metadata": {},
   "outputs": [],
   "source": [
    "# Criar amostra aleatoria com 300 valores\n",
    "tamanho_amostra = 300\n",
    "df_fundamental_amostra = df_fundamental.sample(n=tamanho_amostra, replace=False)"
   ]
  },
  {
   "cell_type": "code",
   "execution_count": null,
   "id": "b3168889",
   "metadata": {},
   "outputs": [],
   "source": [
    "# Verificando o dataframe\n",
    "df_fundamental_amostra.head()"
   ]
  },
  {
   "cell_type": "code",
   "execution_count": null,
   "id": "0285c979",
   "metadata": {},
   "outputs": [],
   "source": [
    "# Gerando um gráfico de correlações com pairplot\n",
    "df = df_fundamental_amostra\n",
    "# Calcular a matriz de correlação\n",
    "corr_matrix = df.corr()\n",
    "# Criar um Pair Plot com distribuições\n",
    "sns.set(style=\"ticks\")\n",
    "g = sns.pairplot(df, diag_kind=\"kde\", markers=\"o\")\n",
    "# Tamanho da fonte para as anotações\n",
    "fontsize = 16 \n",
    "# Adicionar anotações de correlação nas células dos gráficos de dispersão de pares\n",
    "for i, (ax_row, ax_col) in enumerate(zip(g.axes, g.axes.T)):\n",
    "    for j, ax in enumerate(ax_col):\n",
    "        if i != j:\n",
    "            corr_value = corr_matrix.iloc[i, j]\n",
    "            ax.annotate(f\"corr = {corr_value:.2f}\", xy=(0.5, 0.95), xycoords='axes fraction',\n",
    "                        ha='center', fontsize=fontsize, color='black', backgroundcolor='white')\n",
    "            \n",
    "            # Adicionar uma linha de regressão linear\n",
    "            sns.regplot(data=df, x=df.columns[i], y=df.columns[j], ax=ax, scatter=False, color='blue')\n",
    "\n",
    "g.fig.suptitle(\"Pair Plot com Distribuições, Correlações e Linhas de Regressão\", y=1.02)\n",
    "plt.show()"
   ]
  },
  {
   "cell_type": "code",
   "execution_count": null,
   "id": "49d61989",
   "metadata": {},
   "outputs": [],
   "source": [
    "# Gerando o gráfico de calor para analisar a correlação entre as variáveis\n",
    "df = df_fundamental_amostra\n",
    "# Calcular a matriz de correlação\n",
    "corr_matrix = df.corr()\n",
    "# Configurar o estilo do gráfico\n",
    "sns.set(style=\"white\")\n",
    "# Criar um gráfico de calor de correlação\n",
    "plt.figure(figsize=(10, 8))\n",
    "sns.heatmap(corr_matrix, annot=True, fmt=\".2f\", cmap='coolwarm', linewidths=.5)\n",
    "# Configurar título e rótulos\n",
    "plt.title(\"Gráfico de Calor de Correlação\")\n",
    "plt.xlabel(\"\")\n",
    "plt.ylabel(\"\")\n",
    "plt.show()"
   ]
  },
  {
   "cell_type": "code",
   "execution_count": null,
   "id": "06aedbc0",
   "metadata": {
    "scrolled": true
   },
   "outputs": [],
   "source": [
    "# Aplicando a estatística KMO\n",
    "df = df_fundamental_amostra\n",
    "# Calcular a matriz de correlação\n",
    "rho = df.corr()\n",
    "max_length = 10\n",
    "# Realize o teste KMO\n",
    "kmo_per_variable, kmo_total = calculate_kmo(rho)\n",
    "# Imprima os resultados\n",
    "for i, kmo in enumerate(kmo_per_variable):\n",
    "    variable_name = rho.columns[i]\n",
    "    # Formate o nome da variável com espaços em branco adicionados para atingir o comprimento máximo\n",
    "    formatted_variable_name = f\"{variable_name:{max_length}}\"\n",
    "    print(f\"KMO {formatted_variable_name}: {kmo:.2f}\")\n",
    "# Imprima o KMO total\n",
    "print(f\"KMO Total: {kmo_total:.2f}\")"
   ]
  },
  {
   "cell_type": "code",
   "execution_count": null,
   "id": "b56088bc",
   "metadata": {},
   "outputs": [],
   "source": [
    "# Aplicando o teste de Bartlett\n",
    "df = df_fundamental_amostra\n",
    "# Calcular o teste de esfericidade de Bartlett\n",
    "estatistica, p_valor = bartlett(*[df[col] for col in df.columns])\n",
    "# Definir um nível de significância\n",
    "nivel_significancia = 0.05\n",
    "# Verificar a hipótese nula\n",
    "resultado = ''\n",
    "if p_valor < nivel_significancia:\n",
    "    resultado = 'Rejeitamos a hipótese nula. A matriz de correlação não é uma matriz de identidade.'\n",
    "else:\n",
    "    resultado = 'Não rejeitamos a hipótese nula. A matriz de correlação é uma matriz de identidade.'\n",
    "    \n",
    "print(f'{resultado}\\nEstatística X²: {estatistica}\\np-value: {p_valor}')\n"
   ]
  },
  {
   "cell_type": "code",
   "execution_count": null,
   "id": "ba4aaf9d",
   "metadata": {},
   "outputs": [],
   "source": [
    "# Teste de esfericidade de Bartlett-Mauchly\n",
    "import pingouin as pg\n",
    "df = df_fundamental_amostra\n",
    "# Execute o teste de esfericidade de Bartlett-Mauchly\n",
    "result = pg.sphericity(df)\n",
    "# Imprima o resultado\n",
    "print(result)"
   ]
  }
 ],
 "metadata": {
  "kernelspec": {
   "display_name": "Python 3 (ipykernel)",
   "language": "python",
   "name": "python3"
  },
  "language_info": {
   "codemirror_mode": {
    "name": "ipython",
    "version": 3
   },
   "file_extension": ".py",
   "mimetype": "text/x-python",
   "name": "python",
   "nbconvert_exporter": "python",
   "pygments_lexer": "ipython3",
   "version": "3.10.9"
  }
 },
 "nbformat": 4,
 "nbformat_minor": 5
}
